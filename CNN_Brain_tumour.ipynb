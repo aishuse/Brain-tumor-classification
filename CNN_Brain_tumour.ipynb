{
  "cells": [
    {
      "cell_type": "code",
      "execution_count": 2,
      "metadata": {
        "id": "eLO4Ojxwn3zL"
      },
      "outputs": [],
      "source": [
        "import pandas as pd\n",
        "from skimage.io import imread\n",
        "from skimage.transform import resize # all images will be in diff size . so to resize to common size\n",
        "import os\n",
        "from keras.models import Sequential\n",
        "from keras.layers import Dense,Conv2D,MaxPool2D,Flatten\n"
      ]
    },
    {
      "cell_type": "code",
      "execution_count": 3,
      "metadata": {
        "colab": {
          "base_uri": "https://localhost:8080/"
        },
        "id": "NZ3jhNhWpqr-",
        "outputId": "499dba28-2c09-4e01-b2ae-cc42c9d2e9dc"
      },
      "outputs": [
        {
          "data": {
            "text/plain": [
              "['glioma', 'meningioma', 'notumor', 'pituitary']"
            ]
          },
          "execution_count": 3,
          "metadata": {},
          "output_type": "execute_result"
        }
      ],
      "source": [
        "# read images from training and testing data\n",
        "\n",
        "os.listdir('Brain_Tumor/Training')"
      ]
    },
    {
      "cell_type": "code",
      "execution_count": 4,
      "metadata": {
        "colab": {
          "base_uri": "https://localhost:8080/"
        },
        "id": "FE162s0Vp1xn",
        "outputId": "23c4af7d-e9bf-4c80-d040-630be8c8b414"
      },
      "outputs": [
        {
          "data": {
            "text/plain": [
              "['glioma', 'meningioma', 'notumor', 'pituitary']"
            ]
          },
          "execution_count": 4,
          "metadata": {},
          "output_type": "execute_result"
        }
      ],
      "source": [
        "os.listdir('Brain_Tumor/Testing')"
      ]
    },
    {
      "cell_type": "code",
      "execution_count": 5,
      "metadata": {
        "colab": {
          "base_uri": "https://localhost:8080/"
        },
        "id": "pYxjnwCVp-1m",
        "outputId": "fa3f2de5-f94d-470d-e985-9d5a03a0e077"
      },
      "outputs": [
        {
          "name": "stdout",
          "output_type": "stream",
          "text": [
            "Loadinggg...... glioma\n",
            "completed....... glioma\n",
            "Loadinggg...... pituitary\n",
            "completed....... pituitary\n",
            "Loadinggg...... notumor\n",
            "completed....... notumor\n",
            "Loadinggg...... meningioma\n",
            "completed....... meningioma\n"
          ]
        }
      ],
      "source": [
        "# read images\n",
        "\n",
        "datadir = 'Brain_Tumor/Training'\n",
        "X_train = []\n",
        "y_train = []\n",
        "Categories = ['glioma', 'pituitary', 'notumor', 'meningioma']\n",
        "\n",
        "for i in Categories:\n",
        "  print(\"Loadinggg......\", i)\n",
        "  path = os.path.join(datadir, i)\n",
        "  # print(path)\n",
        "\n",
        "  images = os.listdir(path)\n",
        "  # print(images)\n",
        "\n",
        "  # get each image path\n",
        "\n",
        "  for img in images:\n",
        "    img_path = os.path.join(path,img)\n",
        "    # print(img_path)\n",
        "\n",
        "    # read the images\n",
        "    img_arr = imread(img_path)\n",
        "    img_resized = resize(img_arr,(150,150,1))    # (150,150,1)resize form. channel can be given 1 or 3\n",
        "    X_train.append(img_resized)\n",
        "    y_train.append(Categories.index(i))\n",
        "  print(\"completed.......\",i)"
      ]
    },
    {
      "cell_type": "code",
      "execution_count": 6,
      "metadata": {
        "colab": {
          "base_uri": "https://localhost:8080/"
        },
        "id": "oD3-qz4_rRuc",
        "outputId": "0d545280-b4f9-4480-fb4f-220c9e2eb2ee"
      },
      "outputs": [
        {
          "data": {
            "text/plain": [
              "(512, 512)"
            ]
          },
          "execution_count": 6,
          "metadata": {},
          "output_type": "execute_result"
        }
      ],
      "source": [
        "img_arr.shape"
      ]
    },
    {
      "cell_type": "code",
      "execution_count": 7,
      "metadata": {
        "colab": {
          "base_uri": "https://localhost:8080/"
        },
        "id": "QB02FY5A-lv0",
        "outputId": "6a663c7f-2a9b-4e3d-94c8-9d70a265a84e"
      },
      "outputs": [
        {
          "data": {
            "text/plain": [
              "(150, 150, 1)"
            ]
          },
          "execution_count": 7,
          "metadata": {},
          "output_type": "execute_result"
        }
      ],
      "source": [
        "img_resized.shape"
      ]
    },
    {
      "cell_type": "code",
      "execution_count": 8,
      "metadata": {
        "colab": {
          "base_uri": "https://localhost:8080/"
        },
        "id": "De2q36lZ-lyd",
        "outputId": "0da1132b-6c75-45f1-cb16-3bd17a844beb"
      },
      "outputs": [
        {
          "name": "stdout",
          "output_type": "stream",
          "text": [
            "Loadinggg...... glioma\n",
            "completed....... glioma\n",
            "Loadinggg...... pituitary\n",
            "completed....... pituitary\n",
            "Loadinggg...... notumor\n",
            "completed....... notumor\n",
            "Loadinggg...... meningioma\n",
            "completed....... meningioma\n"
          ]
        }
      ],
      "source": [
        "X_test = []\n",
        "y_test = []\n",
        "datadir1 = 'Brain_Tumor/Testing'\n",
        "\n",
        "Categories = ['glioma', 'pituitary', 'notumor', 'meningioma']\n",
        "\n",
        "for i in Categories:\n",
        "  print(\"Loadinggg......\", i)\n",
        "  path = os.path.join(datadir1, i)    # /content/drive/MyDrive/Colab Notebooks/Datasets/Brain_Tumor/Testing/cat\n",
        "  # print(path)\n",
        "\n",
        "  images = os.listdir(path)       # cat1.jpg\n",
        "  # print(images)\n",
        "\n",
        "  # get each image path\n",
        "\n",
        "  for img in images:\n",
        "    img_path = os.path.join(path,img)\n",
        "    # print(img_path)\n",
        "\n",
        "    # read the images\n",
        "    img_arr = imread(img_path)\n",
        "    img_resized = resize(img_arr,(150,150,1))    # (150,150,1)resize form. channel can be given 1 or 3. convert all images to same size 150length 150width 1\n",
        "    X_test.append(img_resized)\n",
        "\n",
        "    y_test.append(Categories.index(i))    # adding the class label\n",
        "  print(\"completed.......\",i)"
      ]
    },
    {
      "cell_type": "code",
      "execution_count": 9,
      "metadata": {
        "colab": {
          "base_uri": "https://localhost:8080/"
        },
        "id": "KQTXwrWd-l0x",
        "outputId": "6cc7426c-a31f-4edb-a25b-79cb5213884a"
      },
      "outputs": [
        {
          "data": {
            "text/plain": [
              "(5529, 150, 150, 1)"
            ]
          },
          "execution_count": 9,
          "metadata": {},
          "output_type": "execute_result"
        }
      ],
      "source": [
        "# X_train, y_train X_test, y_test is list. so convert it to array\n",
        "\n",
        "import numpy as np\n",
        "X_train = np.array(X_train)\n",
        "y_train = np.array(y_train)\n",
        "\n",
        "X_test = np.array(X_test)\n",
        "y_test = np.array(y_test)\n",
        "\n",
        "X_train.shape"
      ]
    },
    {
      "cell_type": "code",
      "execution_count": 10,
      "metadata": {
        "id": "6ZGlbF8jwtjZ"
      },
      "outputs": [],
      "source": [
        "#The shape (5529, 150, 150, 1) indicates that you have a dataset with the following dimensions:\n",
        "\n",
        "# 5529 samples\n",
        "# Each sample is an image\n",
        "# Each image has a width of 150 pixels\n",
        "# Each image has a height of 150 pixels\n",
        "# Each image has a single channel (grayscale)\n"
      ]
    },
    {
      "cell_type": "code",
      "execution_count": 11,
      "metadata": {
        "colab": {
          "base_uri": "https://localhost:8080/"
        },
        "id": "4__Ib8uN-l3q",
        "outputId": "af7ce39f-acf6-49e9-8e50-e5aa4aaf9190"
      },
      "outputs": [
        {
          "data": {
            "text/plain": [
              "(1311, 150, 150, 1)"
            ]
          },
          "execution_count": 11,
          "metadata": {},
          "output_type": "execute_result"
        }
      ],
      "source": [
        "X_test.shape"
      ]
    },
    {
      "cell_type": "code",
      "execution_count": 12,
      "metadata": {
        "colab": {
          "base_uri": "https://localhost:8080/"
        },
        "id": "ogcmuW9mCecE",
        "outputId": "6a187e6d-5cdb-420f-de70-8ec913d5d0b9"
      },
      "outputs": [
        {
          "data": {
            "text/plain": [
              "(1311,)"
            ]
          },
          "execution_count": 12,
          "metadata": {},
          "output_type": "execute_result"
        }
      ],
      "source": [
        "y_test.shape"
      ]
    },
    {
      "cell_type": "code",
      "execution_count": 13,
      "metadata": {
        "colab": {
          "base_uri": "https://localhost:8080/"
        },
        "id": "hgaH5laICeoK",
        "outputId": "a4733e8b-e43a-44c8-c103-cd0cdca21704"
      },
      "outputs": [
        {
          "name": "stderr",
          "output_type": "stream",
          "text": [
            "c:\\Users\\aiswa\\AppData\\Local\\Programs\\Python\\Python311\\Lib\\site-packages\\keras\\src\\layers\\convolutional\\base_conv.py:107: UserWarning: Do not pass an `input_shape`/`input_dim` argument to a layer. When using Sequential models, prefer using an `Input(shape)` object as the first layer in the model instead.\n",
            "  super().__init__(activity_regularizer=activity_regularizer, **kwargs)\n"
          ]
        }
      ],
      "source": [
        "model = Sequential()\n",
        "#conv,pool layers. we can add n no: of conv n pooling layers\n",
        "model.add(Conv2D(32,(3,3), input_shape=(150,150,1), activation='relu'))     # 32 is kernal.ie, feature maps; (3,3) is the shape of kernal.\n",
        "model.add(MaxPool2D(2,2))\n",
        "model.add(Conv2D(32,(3,3), activation='relu'))    # input_shape needed only in 1st layer\n",
        "model.add(MaxPool2D(2,2))\n",
        "model.add(Flatten())     # convert image into 1D\n",
        "\n",
        "model.add(Dense(100,activation='relu'))   #fully connected layer\n",
        "model.add(Dense(4,activation='softmax'))    # for o/p layer either sigmoid/softmax is used\n"
      ]
    },
    {
      "cell_type": "markdown",
      "metadata": {
        "id": "fWNHIBm9z8uf"
      },
      "source": []
    },
    {
      "cell_type": "code",
      "execution_count": 14,
      "metadata": {
        "id": "sSKcvYokd6GO"
      },
      "outputs": [],
      "source": [
        "model.compile(optimizer='adam',\n",
        "              loss=\"sparse_categorical_crossentropy\", # instead of changing to categorical, we can use sparse_categorical_crossentropy\n",
        "              metrics=['accuracy'])    # optimizer for updating weight , loss= diff of actual n predicted value, specify which metric performance to be improved by updating weight"
      ]
    },
    {
      "cell_type": "code",
      "execution_count": 15,
      "metadata": {
        "colab": {
          "base_uri": "https://localhost:8080/"
        },
        "id": "FXf6THphd6I9",
        "outputId": "4549c4f1-6b32-4aa5-b16e-61ae042bf905"
      },
      "outputs": [
        {
          "name": "stdout",
          "output_type": "stream",
          "text": [
            "Epoch 1/20\n",
            "\u001b[1m277/277\u001b[0m \u001b[32m━━━━━━━━━━━━━━━━━━━━\u001b[0m\u001b[37m\u001b[0m \u001b[1m28s\u001b[0m 95ms/step - accuracy: 0.6613 - loss: 0.8096\n",
            "Epoch 2/20\n",
            "\u001b[1m277/277\u001b[0m \u001b[32m━━━━━━━━━━━━━━━━━━━━\u001b[0m\u001b[37m\u001b[0m \u001b[1m25s\u001b[0m 90ms/step - accuracy: 0.8981 - loss: 0.2787\n",
            "Epoch 3/20\n",
            "\u001b[1m277/277\u001b[0m \u001b[32m━━━━━━━━━━━━━━━━━━━━\u001b[0m\u001b[37m\u001b[0m \u001b[1m25s\u001b[0m 91ms/step - accuracy: 0.9504 - loss: 0.1366\n",
            "Epoch 4/20\n",
            "\u001b[1m277/277\u001b[0m \u001b[32m━━━━━━━━━━━━━━━━━━━━\u001b[0m\u001b[37m\u001b[0m \u001b[1m24s\u001b[0m 88ms/step - accuracy: 0.9680 - loss: 0.0956\n",
            "Epoch 5/20\n",
            "\u001b[1m277/277\u001b[0m \u001b[32m━━━━━━━━━━━━━━━━━━━━\u001b[0m\u001b[37m\u001b[0m \u001b[1m25s\u001b[0m 88ms/step - accuracy: 0.9871 - loss: 0.0358\n",
            "Epoch 6/20\n",
            "\u001b[1m277/277\u001b[0m \u001b[32m━━━━━━━━━━━━━━━━━━━━\u001b[0m\u001b[37m\u001b[0m \u001b[1m25s\u001b[0m 89ms/step - accuracy: 0.9932 - loss: 0.0316\n",
            "Epoch 7/20\n",
            "\u001b[1m277/277\u001b[0m \u001b[32m━━━━━━━━━━━━━━━━━━━━\u001b[0m\u001b[37m\u001b[0m \u001b[1m24s\u001b[0m 88ms/step - accuracy: 0.9949 - loss: 0.0189\n",
            "Epoch 8/20\n",
            "\u001b[1m277/277\u001b[0m \u001b[32m━━━━━━━━━━━━━━━━━━━━\u001b[0m\u001b[37m\u001b[0m \u001b[1m25s\u001b[0m 89ms/step - accuracy: 0.9941 - loss: 0.0167\n",
            "Epoch 9/20\n",
            "\u001b[1m277/277\u001b[0m \u001b[32m━━━━━━━━━━━━━━━━━━━━\u001b[0m\u001b[37m\u001b[0m \u001b[1m25s\u001b[0m 89ms/step - accuracy: 0.9936 - loss: 0.0180\n",
            "Epoch 10/20\n",
            "\u001b[1m277/277\u001b[0m \u001b[32m━━━━━━━━━━━━━━━━━━━━\u001b[0m\u001b[37m\u001b[0m \u001b[1m25s\u001b[0m 88ms/step - accuracy: 0.9885 - loss: 0.0343\n",
            "Epoch 11/20\n",
            "\u001b[1m277/277\u001b[0m \u001b[32m━━━━━━━━━━━━━━━━━━━━\u001b[0m\u001b[37m\u001b[0m \u001b[1m24s\u001b[0m 88ms/step - accuracy: 0.9939 - loss: 0.0216\n",
            "Epoch 12/20\n",
            "\u001b[1m277/277\u001b[0m \u001b[32m━━━━━━━━━━━━━━━━━━━━\u001b[0m\u001b[37m\u001b[0m \u001b[1m24s\u001b[0m 88ms/step - accuracy: 0.9996 - loss: 0.0027\n",
            "Epoch 13/20\n",
            "\u001b[1m277/277\u001b[0m \u001b[32m━━━━━━━━━━━━━━━━━━━━\u001b[0m\u001b[37m\u001b[0m \u001b[1m25s\u001b[0m 88ms/step - accuracy: 1.0000 - loss: 2.4418e-04\n",
            "Epoch 14/20\n",
            "\u001b[1m277/277\u001b[0m \u001b[32m━━━━━━━━━━━━━━━━━━━━\u001b[0m\u001b[37m\u001b[0m \u001b[1m25s\u001b[0m 89ms/step - accuracy: 1.0000 - loss: 1.2040e-04\n",
            "Epoch 15/20\n",
            "\u001b[1m277/277\u001b[0m \u001b[32m━━━━━━━━━━━━━━━━━━━━\u001b[0m\u001b[37m\u001b[0m \u001b[1m25s\u001b[0m 88ms/step - accuracy: 1.0000 - loss: 9.5363e-05\n",
            "Epoch 16/20\n",
            "\u001b[1m277/277\u001b[0m \u001b[32m━━━━━━━━━━━━━━━━━━━━\u001b[0m\u001b[37m\u001b[0m \u001b[1m25s\u001b[0m 89ms/step - accuracy: 1.0000 - loss: 6.5113e-05\n",
            "Epoch 17/20\n",
            "\u001b[1m277/277\u001b[0m \u001b[32m━━━━━━━━━━━━━━━━━━━━\u001b[0m\u001b[37m\u001b[0m \u001b[1m25s\u001b[0m 89ms/step - accuracy: 1.0000 - loss: 5.3668e-05\n",
            "Epoch 18/20\n",
            "\u001b[1m277/277\u001b[0m \u001b[32m━━━━━━━━━━━━━━━━━━━━\u001b[0m\u001b[37m\u001b[0m \u001b[1m28s\u001b[0m 103ms/step - accuracy: 1.0000 - loss: 4.1598e-05\n",
            "Epoch 19/20\n",
            "\u001b[1m277/277\u001b[0m \u001b[32m━━━━━━━━━━━━━━━━━━━━\u001b[0m\u001b[37m\u001b[0m \u001b[1m31s\u001b[0m 110ms/step - accuracy: 1.0000 - loss: 3.7515e-05\n",
            "Epoch 20/20\n",
            "\u001b[1m277/277\u001b[0m \u001b[32m━━━━━━━━━━━━━━━━━━━━\u001b[0m\u001b[37m\u001b[0m \u001b[1m34s\u001b[0m 124ms/step - accuracy: 1.0000 - loss: 2.9996e-05\n"
          ]
        },
        {
          "data": {
            "text/plain": [
              "<keras.src.callbacks.history.History at 0x1c6a4f70a10>"
            ]
          },
          "execution_count": 15,
          "metadata": {},
          "output_type": "execute_result"
        }
      ],
      "source": [
        "model.fit(X_train,y_train, epochs=20, batch_size=20)  # epoch means how many times model shud learn, batch size is to split data for learning as batches\n"
      ]
    },
    {
      "cell_type": "code",
      "execution_count": 16,
      "metadata": {
        "colab": {
          "base_uri": "https://localhost:8080/"
        },
        "id": "E6tqND63d6Lt",
        "outputId": "a0c1044f-756d-4343-e968-9ff1b8785db6"
      },
      "outputs": [
        {
          "name": "stdout",
          "output_type": "stream",
          "text": [
            "\u001b[1m41/41\u001b[0m \u001b[32m━━━━━━━━━━━━━━━━━━━━\u001b[0m\u001b[37m\u001b[0m \u001b[1m3s\u001b[0m 57ms/step - accuracy: 0.9583 - loss: 0.2637\n"
          ]
        },
        {
          "data": {
            "text/plain": [
              "[0.21374478936195374, 0.9656750559806824]"
            ]
          },
          "execution_count": 16,
          "metadata": {},
          "output_type": "execute_result"
        }
      ],
      "source": [
        "model.evaluate(X_test,y_test)"
      ]
    },
    {
      "cell_type": "code",
      "execution_count": 18,
      "metadata": {},
      "outputs": [
        {
          "name": "stderr",
          "output_type": "stream",
          "text": [
            "WARNING:absl:You are saving your model as an HDF5 file via `model.save()` or `keras.saving.save_model(model)`. This file format is considered legacy. We recommend using instead the native Keras format, e.g. `model.save('my_model.keras')` or `keras.saving.save_model(model, 'my_model.keras')`. \n"
          ]
        }
      ],
      "source": [
        "model.save(\"cnn_model.h5\") \n"
      ]
    },
    {
      "cell_type": "code",
      "execution_count": 19,
      "metadata": {
        "id": "4TTVi3gSm0JP"
      },
      "outputs": [],
      "source": [
        "# testing\n",
        "\n",
        "\n",
        "img = imread('Brain_Tumor/Testing/pituitary/Te-piTr_0000.jpg')"
      ]
    },
    {
      "cell_type": "code",
      "execution_count": 20,
      "metadata": {
        "colab": {
          "base_uri": "https://localhost:8080/"
        },
        "id": "ZqHuoLEHnM-6",
        "outputId": "c97810c8-bbec-4791-e874-60bbcca88003"
      },
      "outputs": [
        {
          "data": {
            "text/plain": [
              "(150, 150, 1)"
            ]
          },
          "execution_count": 20,
          "metadata": {},
          "output_type": "execute_result"
        }
      ],
      "source": [
        "img = resize(img,(150,150,1))\n",
        "img.shape"
      ]
    },
    {
      "cell_type": "code",
      "execution_count": 21,
      "metadata": {
        "colab": {
          "base_uri": "https://localhost:8080/"
        },
        "id": "rWWgiJaLnNBz",
        "outputId": "ec4863ec-729f-47b7-f7c3-ddafc23bf022"
      },
      "outputs": [
        {
          "data": {
            "text/plain": [
              "(1, 150, 150, 1)"
            ]
          },
          "execution_count": 21,
          "metadata": {},
          "output_type": "execute_result"
        }
      ],
      "source": [
        "# x_train shape is (5529, 150, 150, 1).ie 4 dimension. so convert test image to that shape / same dimension too\n",
        "\n",
        "img = img.reshape(1,150,150,1)\n",
        "img.shape"
      ]
    },
    {
      "cell_type": "code",
      "execution_count": 22,
      "metadata": {
        "colab": {
          "base_uri": "https://localhost:8080/"
        },
        "id": "jqbk0y6cnNEp",
        "outputId": "f34b9925-0bbf-4d18-8462-7fbd2bc237a8"
      },
      "outputs": [
        {
          "name": "stdout",
          "output_type": "stream",
          "text": [
            "\u001b[1m1/1\u001b[0m \u001b[32m━━━━━━━━━━━━━━━━━━━━\u001b[0m\u001b[37m\u001b[0m \u001b[1m0s\u001b[0m 137ms/step\n"
          ]
        },
        {
          "data": {
            "text/plain": [
              "array([[8.5230716e-16, 9.9999690e-01, 1.9935728e-12, 3.0703318e-06]],\n",
              "      dtype=float32)"
            ]
          },
          "execution_count": 22,
          "metadata": {},
          "output_type": "execute_result"
        }
      ],
      "source": [
        "pred = model.predict(img)\n",
        "pred"
      ]
    },
    {
      "cell_type": "code",
      "execution_count": 23,
      "metadata": {
        "colab": {
          "base_uri": "https://localhost:8080/"
        },
        "id": "C7C8hxQpoPy1",
        "outputId": "e32c2d77-c7cb-4ff8-c489-b930de057749"
      },
      "outputs": [
        {
          "data": {
            "text/plain": [
              "array([1], dtype=int64)"
            ]
          },
          "execution_count": 23,
          "metadata": {},
          "output_type": "execute_result"
        }
      ],
      "source": [
        "ind =  pred.argmax(axis=1)\n",
        "ind"
      ]
    },
    {
      "cell_type": "code",
      "execution_count": 24,
      "metadata": {
        "colab": {
          "base_uri": "https://localhost:8080/",
          "height": 36
        },
        "id": "cxMMwfyboP9b",
        "outputId": "f5f27c6b-cb37-4fb4-b284-2fb232aed465"
      },
      "outputs": [
        {
          "data": {
            "text/plain": [
              "'pituitary'"
            ]
          },
          "execution_count": 24,
          "metadata": {},
          "output_type": "execute_result"
        }
      ],
      "source": [
        "Categories[ind.item()]"
      ]
    },
    {
      "cell_type": "code",
      "execution_count": null,
      "metadata": {
        "id": "5YBcMr81oQAc"
      },
      "outputs": [],
      "source": []
    },
    {
      "cell_type": "code",
      "execution_count": null,
      "metadata": {
        "id": "_Cp0it8GoQD-"
      },
      "outputs": [],
      "source": []
    },
    {
      "cell_type": "code",
      "execution_count": null,
      "metadata": {
        "id": "0xIQTbktoQGY"
      },
      "outputs": [],
      "source": []
    },
    {
      "cell_type": "code",
      "execution_count": null,
      "metadata": {
        "id": "tHtnovKDoQJL"
      },
      "outputs": [],
      "source": []
    }
  ],
  "metadata": {
    "colab": {
      "provenance": []
    },
    "kernelspec": {
      "display_name": "Python 3",
      "name": "python3"
    },
    "language_info": {
      "codemirror_mode": {
        "name": "ipython",
        "version": 3
      },
      "file_extension": ".py",
      "mimetype": "text/x-python",
      "name": "python",
      "nbconvert_exporter": "python",
      "pygments_lexer": "ipython3",
      "version": "3.11.0"
    }
  },
  "nbformat": 4,
  "nbformat_minor": 0
}
